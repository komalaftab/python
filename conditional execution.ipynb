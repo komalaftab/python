{
 "cells": [
  {
   "cell_type": "markdown",
   "metadata": {},
   "source": [
    "# Conditional statements\n",
    "\n",
    "•\tif\n",
    "\n",
    "•\telse\n",
    "\n",
    "•\telif\n"
   ]
  },
  {
   "cell_type": "markdown",
   "metadata": {},
   "source": [
    "Programming often involves examining\n",
    "a set of conditions and deciding which\n",
    "action to take based on those conditions."
   ]
  },
  {
   "cell_type": "markdown",
   "metadata": {},
   "source": [
    "# if"
   ]
  },
  {
   "cell_type": "code",
   "execution_count": 1,
   "metadata": {},
   "outputs": [
    {
     "name": "stdout",
     "output_type": "stream",
     "text": [
      "yep,it's cat.\n"
     ]
    }
   ],
   "source": [
    "species = \"cat\" # assigning variable\n",
    "if species == \"cat\": # 'if' is a keyword . '==' is comparsion operator.if statement end with \":\" character.\n",
    "    print(\"yep,it's cat.\")"
   ]
  },
  {
   "cell_type": "code",
   "execution_count": 4,
   "metadata": {},
   "outputs": [
    {
     "name": "stdout",
     "output_type": "stream",
     "text": [
      " x is positive.\n"
     ]
    }
   ],
   "source": [
    "x = 5\n",
    "if x > 0:\n",
    "    print(\" x is positive.\")"
   ]
  },
  {
   "cell_type": "code",
   "execution_count": 5,
   "metadata": {},
   "outputs": [
    {
     "name": "stdout",
     "output_type": "stream",
     "text": [
      "Every thing make sense.\n"
     ]
    }
   ],
   "source": [
    "if 2 + 2 == 4:\n",
    "    print(\"Every thing make sense.\")"
   ]
  },
  {
   "cell_type": "code",
   "execution_count": 7,
   "metadata": {},
   "outputs": [
    {
     "ename": "IndentationError",
     "evalue": "unindent does not match any outer indentation level (<tokenize>, line 4)",
     "output_type": "error",
     "traceback": [
      "\u001b[1;36m  File \u001b[1;32m\"<tokenize>\"\u001b[1;36m, line \u001b[1;32m4\u001b[0m\n\u001b[1;33m    print(\"done.\")\u001b[0m\n\u001b[1;37m    ^\u001b[0m\n\u001b[1;31mIndentationError\u001b[0m\u001b[1;31m:\u001b[0m unindent does not match any outer indentation level\n"
     ]
    }
   ],
   "source": [
    "x = 4 \n",
    "if x <= 4:\n",
    "    print(\"small\")\n",
    " print(\"done.\")"
   ]
  },
  {
   "cell_type": "code",
   "execution_count": 15,
   "metadata": {},
   "outputs": [
    {
     "name": "stdout",
     "output_type": "stream",
     "text": [
      "What is the temperature?120\n",
      "a heat warning.\n"
     ]
    }
   ],
   "source": [
    "temperature = int(input(\"What is the temperature?\"))\n",
    "if temperature > 90:\n",
    "    print(\"a heat warning.\")\n",
    "if temperature < 30:\n",
    "    print(\" a cold warning.\") # also called nested loop.\n",
    "    "
   ]
  },
  {
   "cell_type": "markdown",
   "metadata": {},
   "source": [
    "# else"
   ]
  },
  {
   "cell_type": "code",
   "execution_count": 24,
   "metadata": {},
   "outputs": [
    {
     "name": "stdout",
     "output_type": "stream",
     "text": [
      "yep,it's cat.\n"
     ]
    }
   ],
   "source": [
    "species = \"cat\"\n",
    "if species == \"cat\":\n",
    "    print(\"yep,it's cat.\")\n",
    "if species != \"cat\":\n",
    "    print(\"Nope,it'not cat.\")\n"
   ]
  },
  {
   "cell_type": "code",
   "execution_count": 25,
   "metadata": {},
   "outputs": [
    {
     "name": "stdout",
     "output_type": "stream",
     "text": [
      "yep,it's cat.\n"
     ]
    }
   ],
   "source": [
    "if species == \"cat\":\n",
    "    print(\"yep,it's cat.\")\n",
    "else:\n",
    "    print(\"not cat.\")\n",
    "    \n",
    "    "
   ]
  },
  {
   "cell_type": "code",
   "execution_count": 27,
   "metadata": {},
   "outputs": [
    {
     "name": "stdout",
     "output_type": "stream",
     "text": [
      "hello,Mary\n",
      "acess granted.\n"
     ]
    }
   ],
   "source": [
    "name = \"Mary\"\n",
    "password = \"123456\"\n",
    "if name == \"Mary\":\n",
    "    print(\"hello,Mary\")\n",
    "    if password == \"123456\":\n",
    "        print(\"acess granted.\")\n",
    "    else:\n",
    "        print(\"wrong password\")\n",
    "else :\n",
    "    print(\"wrong user name.\")"
   ]
  },
  {
   "cell_type": "code",
   "execution_count": 28,
   "metadata": {},
   "outputs": [
    {
     "name": "stdout",
     "output_type": "stream",
     "text": [
      "enter a number:6\n",
      "number is even.\n"
     ]
    }
   ],
   "source": [
    "x = int(input(\"enter a number:\"))\n",
    "if x % 2 == 0 :\n",
    "    print(\"number is even.\")\n",
    "else:\n",
    "    print(\"number is odd.\")"
   ]
  },
  {
   "cell_type": "markdown",
   "metadata": {},
   "source": [
    "# elif"
   ]
  },
  {
   "cell_type": "markdown",
   "metadata": {},
   "source": [
    "# elif is an abbreviation of “else if.” \n",
    "\n",
    "There is no limit on the number of elif statements. If there is an else clause, it\n",
    "has to be at the end, but there doesn’t have to be one."
   ]
  },
  {
   "cell_type": "code",
   "execution_count": 31,
   "metadata": {},
   "outputs": [
    {
     "name": "stdout",
     "output_type": "stream",
     "text": [
      "enter your number:70\n",
      "B+\n"
     ]
    }
   ],
   "source": [
    "marks = int(input(\"enter your number:\"))\n",
    "if marks >= 90:\n",
    "    print(\"A+\")\n",
    "elif marks >= 80:\n",
    "    print(\"A\")\n",
    "elif marks >= 70:\n",
    "    print(\"B+\")\n",
    "elif marks >= 60 :\n",
    "    print(\"B\")\n",
    "elif marks >= 50 :\n",
    "    print(\"C\")\n",
    "else:\n",
    "    print(\"Fail.\")"
   ]
  },
  {
   "cell_type": "markdown",
   "metadata": {},
   "source": [
    "# Testing set of conditions:"
   ]
  },
  {
   "cell_type": "code",
   "execution_count": 37,
   "metadata": {},
   "outputs": [
    {
     "name": "stdout",
     "output_type": "stream",
     "text": [
      "x equal to y.\n"
     ]
    }
   ],
   "source": [
    "x = 10\n",
    "y = 10\n",
    "a = 3\n",
    "b = 4\n",
    "\n",
    "if x == y or a == b:\n",
    "    print(\"x equal to y.\")\n",
    "\n",
    "else:\n",
    "    print (\"not equal\")"
   ]
  },
  {
   "cell_type": "code",
   "execution_count": 38,
   "metadata": {},
   "outputs": [
    {
     "name": "stdout",
     "output_type": "stream",
     "text": [
      "not equal.\n"
     ]
    }
   ],
   "source": [
    "if x == y and a == b :\n",
    "    print(\"equal\")\n",
    "else:\n",
    "    print(\"not equal.\")"
   ]
  }
 ],
 "metadata": {
  "kernelspec": {
   "display_name": "Python 3",
   "language": "python",
   "name": "python3"
  },
  "language_info": {
   "codemirror_mode": {
    "name": "ipython",
    "version": 3
   },
   "file_extension": ".py",
   "mimetype": "text/x-python",
   "name": "python",
   "nbconvert_exporter": "python",
   "pygments_lexer": "ipython3",
   "version": "3.7.3"
  }
 },
 "nbformat": 4,
 "nbformat_minor": 2
}
