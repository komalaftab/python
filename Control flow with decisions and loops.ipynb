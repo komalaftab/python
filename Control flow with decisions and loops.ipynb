{
 "cells": [
  {
   "cell_type": "markdown",
   "metadata": {},
   "source": [
    "# if construction"
   ]
  },
  {
   "cell_type": "code",
   "execution_count": 2,
   "metadata": {},
   "outputs": [
    {
     "name": "stdout",
     "output_type": "stream",
     "text": [
      "please enter your age:20\n",
      "Welcome aboard\n"
     ]
    }
   ],
   "source": [
    "age = int(input(\"please enter your age:\"))\n",
    "\n",
    "if age < 10:\n",
    "    print(\"You are too young\")\n",
    "else:\n",
    "    print(\"Welcome aboard\")"
   ]
  },
  {
   "cell_type": "code",
   "execution_count": 5,
   "metadata": {},
   "outputs": [
    {
     "name": "stdout",
     "output_type": "stream",
     "text": [
      "IT IS TIME TO GET UP\n"
     ]
    }
   ],
   "source": [
    "# simple alram clock\n",
    "import time\n",
    "current_time = time.localtime()\n",
    "hour = current_time.tm_hour\n",
    "minute = current_time.tm_min\n",
    "it_is_time_to_get_up = (hour>7) or (hour==7 and minute>29)\n",
    "if it_is_time_to_get_up:\n",
    "    print('IT IS TIME TO GET UP')\n"
   ]
  },
  {
   "cell_type": "code",
   "execution_count": 7,
   "metadata": {},
   "outputs": [
    {
     "name": "stdout",
     "output_type": "stream",
     "text": [
      "IT IS TIME TO GET UP\n"
     ]
    }
   ],
   "source": [
    "if it_is_time_to_get_up:\n",
    "    print('IT IS TIME TO GET UP')"
   ]
  },
  {
   "cell_type": "code",
   "execution_count": 10,
   "metadata": {},
   "outputs": [
    {
     "name": "stdout",
     "output_type": "stream",
     "text": [
      "IT IS TIME TO GET UP\n",
      "RISE AND SHINE\n",
      "THE EARLY BIRD GETS THE WORM\n",
      "The time is  10 : 59\n"
     ]
    }
   ],
   "source": [
    "#Alarm clock with time display\n",
    "import time\n",
    "current_time = time.localtime()\n",
    "hour = current_time.tm_hour\n",
    "minute = current_time.tm_min\n",
    "if (hour>7) or (hour==7 and minute>29):\n",
    "    print('IT IS TIME TO GET UP')\n",
    "    print('RISE AND SHINE')\n",
    "    print('THE EARLY BIRD GETS THE WORM')\n",
    "print(\"The time is \",hour,\":\",minute )"
   ]
  },
  {
   "cell_type": "code",
   "execution_count": 12,
   "metadata": {},
   "outputs": [
    {
     "name": "stdout",
     "output_type": "stream",
     "text": [
      "Enter your name: Rob\n",
      "Hello, Oh great one\n"
     ]
    }
   ],
   "source": [
    "name = input('Enter your name: ')\n",
    "if name.upper() == 'ROB':\n",
    "    print('Hello, Oh great one')"
   ]
  },
  {
   "cell_type": "markdown",
   "metadata": {},
   "source": [
    "# nesting if "
   ]
  },
  {
   "cell_type": "code",
   "execution_count": 14,
   "metadata": {},
   "outputs": [
    {
     "name": "stdout",
     "output_type": "stream",
     "text": [
      "Enter your name: ROB\n",
      "Enter the password: SECRET\n",
      "Hello, Oh great one\n"
     ]
    }
   ],
   "source": [
    "name = input('Enter your name: ')\n",
    "if name.upper() == 'ROB':\n",
    "    password = input('Enter the password: ')\n",
    "    if password.lower() == 'secret':\n",
    "        print('Hello, Oh great one')\n",
    "else:\n",
    "    print('You are not Rob.')"
   ]
  },
  {
   "cell_type": "code",
   "execution_count": 4,
   "metadata": {},
   "outputs": [
    {
     "name": "stdout",
     "output_type": "stream",
     "text": [
      "Please enter your command:3\n",
      "Command 3\n"
     ]
    }
   ],
   "source": [
    "command = int(input(\"Please enter your command:\"))\n",
    "if command==1:\n",
    "    print(\"Command 1\")\n",
    "elif command==2:\n",
    "    print(\"Command 2\")\n",
    "elif command==3:\n",
    "    print(\"Command 3\")\n",
    "else:\n",
    "    print(\"Invalid command\")"
   ]
  },
  {
   "cell_type": "markdown",
   "metadata": {},
   "source": [
    "# loops"
   ]
  },
  {
   "cell_type": "markdown",
   "metadata": {},
   "source": [
    "while; for; break; continue; pass; nested loops and loops\n",
    "that include compound conditional expressions"
   ]
  },
  {
   "cell_type": "code",
   "execution_count": 16,
   "metadata": {},
   "outputs": [],
   "source": [
    "# while\n",
    "# syntax\n",
    "# while condition colon : identent statement"
   ]
  },
  {
   "cell_type": "code",
   "execution_count": 19,
   "metadata": {},
   "outputs": [],
   "source": [
    "# can we use bool in while loop\n",
    "while False:\n",
    "    print(\"hi\")\n",
    "    "
   ]
  },
  {
   "cell_type": "code",
   "execution_count": null,
   "metadata": {},
   "outputs": [],
   "source": [
    "flag = True\n",
    "while flag:\n",
    "    print('Inside loop')\n",
    "    flag = False\n",
    "print('Outside loop')"
   ]
  },
  {
   "cell_type": "code",
   "execution_count": 5,
   "metadata": {},
   "outputs": [
    {
     "name": "stdout",
     "output_type": "stream",
     "text": [
      "Please enter your age: 0\n",
      "This age is not valid\n",
      "Please enter your age: 105\n",
      "This age is not valid\n",
      "Please enter your age: 1\n",
      "Thank you for entering your age\n"
     ]
    }
   ],
   "source": [
    "# We need to get the age of the user\n",
    "age_text = input('Please enter your age: ')\n",
    "age = int(age_text)\n",
    "while age < 1 or age > 95:\n",
    " # repeat this code while the age is invalid\n",
    "    print('This age is not valid')\n",
    "    age_text = input('Please enter your age: ')\n",
    "    age = int(age_text)\n",
    " # when we get here, we have a valid age value\n",
    "print('Thank you for entering your age')"
   ]
  },
  {
   "cell_type": "code",
   "execution_count": 8,
   "metadata": {},
   "outputs": [
    {
     "name": "stdout",
     "output_type": "stream",
     "text": [
      "Please enter the ride number you want: THREE\n",
      "invalid number.\n"
     ]
    }
   ],
   "source": [
    "try:\n",
    "    ride_number_text = input('Please enter the ride number you want: ')\n",
    "    ride_number = int(ride_number_text)\n",
    "    print('You have entered',ride_number)\n",
    "except ValueError:\n",
    "    print(\"invalid number.\")"
   ]
  },
  {
   "cell_type": "code",
   "execution_count": null,
   "metadata": {},
   "outputs": [],
   "source": [
    " ride_number_valid = False # create a flag value and set it to False\n",
    "while ride_number_valid == False:\n",
    "    # repeat while the flag is False\n",
    "    try:\n",
    "            # start of code that might throw exceptions\n",
    "             ride_number_text = input('Please enter the ride number you want: ')\n",
    "             ride_number = int(ride_number_text) # convert the text into a number\n",
    "             ride_number_valid = True # if we get here, we know the number is OK.\n",
    "    except ValueError:\n",
    "        print(\"invalid number\")\n",
    "    \n",
    "    # the handler for an invalid number\n",
    "    #print('Invalid number text. Please enter digits.') # display an error\n",
    " # When we get here, we have a valid ride number\n",
    " print('You have selected ride', ride_number)"
   ]
  },
  {
   "cell_type": "code",
   "execution_count": 12,
   "metadata": {},
   "outputs": [
    {
     "name": "stdout",
     "output_type": "stream",
     "text": [
      "Please enter the ride number you want: three\n",
      "Invalid number text. Please enter digits.\n",
      "Please enter the ride number you want: 8\n",
      "You have selected ride 8\n"
     ]
    }
   ],
   "source": [
    "#EG6-04 Handling invalid text\n",
    "ride_number_valid = False # create a flag value and set it to False\n",
    "while ride_number_valid == False: # repeat while the flag is False\n",
    "     try: # start of code that might throw exceptions\n",
    "             ride_number_text = input('Please enter the ride number you want: ')\n",
    "             ride_number = int(ride_number_text) # (might raise exception)\n",
    "             ride_number_valid = True # if we get here, we know the number is OK.\n",
    "     except ValueError: # the handler for an invalid number\n",
    "        print('Invalid number text. Please enter digits.') #\n",
    "     except KeyboardInterrupt: # the handler for an invalid number\n",
    "        print('Please do not try to stop the program.') #\n",
    " # When we get here, we have a valid ride number\n",
    "print('You have selected ride', ride_number)"
   ]
  },
  {
   "cell_type": "code",
   "execution_count": null,
   "metadata": {},
   "outputs": [],
   "source": []
  },
  {
   "cell_type": "code",
   "execution_count": null,
   "metadata": {},
   "outputs": [],
   "source": []
  },
  {
   "cell_type": "code",
   "execution_count": null,
   "metadata": {},
   "outputs": [],
   "source": []
  },
  {
   "cell_type": "code",
   "execution_count": null,
   "metadata": {},
   "outputs": [],
   "source": []
  }
 ],
 "metadata": {
  "kernelspec": {
   "display_name": "Python 3",
   "language": "python",
   "name": "python3"
  },
  "language_info": {
   "codemirror_mode": {
    "name": "ipython",
    "version": 3
   },
   "file_extension": ".py",
   "mimetype": "text/x-python",
   "name": "python",
   "nbconvert_exporter": "python",
   "pygments_lexer": "ipython3",
   "version": "3.7.3"
  }
 },
 "nbformat": 4,
 "nbformat_minor": 2
}
