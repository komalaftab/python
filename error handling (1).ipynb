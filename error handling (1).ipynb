{
 "cells": [
  {
   "cell_type": "markdown",
   "metadata": {},
   "source": [
    "# a = 5\n",
    "b = 5\n",
    "d =[]\n",
    "\n",
    "try:\n",
    "    c = a/b\n",
    "    #f = d[5]\n",
    "except ZeroDivisionError:\n",
    "      print(\"ap zero divide ni kr skty\")\n",
    "except:\n",
    "    print(\"Handle error\")\n",
    "else:\n",
    "        print(c)\n",
    "finally:\n",
    "    print(\"finally will always run\")\n",
    "    \n",
    "print(\"last\")"
   ]
  },
  {
   "cell_type": "code",
   "execution_count": 17,
   "metadata": {},
   "outputs": [
    {
     "name": "stdout",
     "output_type": "stream",
     "text": [
      "before\n"
     ]
    }
   ],
   "source": [
    "class Student():\n",
    "    def _init_(self,name,age):\n",
    "        if  age > 80 or age < 16:\n",
    "            raise StudentAgeException(\"Age can not be greater than 80 and less than 16\")\n",
    "        self.name = name\n",
    "        self.age = age\n",
    "        \n",
    "class StudentAgeException(Exception):\n",
    "    pass\n",
    "        \n",
    "print(\"before\") \n",
    "try:\n",
    "    st = Student()\n",
    "except StudentAgeException as e:\n",
    "    print(\"Handle == \",str(e))\n"
   ]
  },
  {
   "cell_type": "markdown",
   "metadata": {},
   "source": [
    "# file handling"
   ]
  },
  {
   "cell_type": "code",
   "execution_count": 11,
   "metadata": {},
   "outputs": [
    {
     "name": "stdout",
     "output_type": "stream",
     "text": [
      "['# -*- coding: utf-8 -*-\\n', '\"\"\"\\n', 'Created on Sun Jan  6 14:59:55 2019\\n', '\\n', '@author: aqadi\\n', '\"\"\"\\n', '\\n', 'a = 5\\n', 'b = 5\\n', 'd =[]\\n', '\\n', 'try:\\n', '    c = a/b\\n', '    #f = d[5]\\n', 'except ZeroDivisionError:\\n', '      print(\"ap zero divide ni kr skty\")\\n', 'except:\\n', '    print(\"Handle error\")\\n', 'else:\\n', '        print(c)\\n', 'finally:\\n', '    print(\"finally will always run\")\\n', '    \\n', 'print(\"last\")']\n"
     ]
    }
   ],
   "source": [
    "with open('untitled0.py') as fileObj:\n",
    "     line = fileObj.readlines()\n",
    "print(line)"
   ]
  },
  {
   "cell_type": "code",
   "execution_count": 16,
   "metadata": {},
   "outputs": [
    {
     "name": "stdout",
     "output_type": "stream",
     "text": [
      "['\\n', 'I LOVE PROGRAMMING\\n', '-\\n', '\"\"\"\\n', 'Created on Sun Jan  6 14:59:55 2019\\n', '\\n', '@author: aqadi\\n', '\"\"\"\\n', '\\n', 'a = 5\\n', 'b = 5\\n', 'd =[]\\n', '\\n', 'try:\\n', '    c = a/b\\n', '    #f = d[5]\\n', 'except ZeroDivisionError:\\n', '      print(\"ap zero divide ni kr skty\")\\n', 'except:\\n', '    print(\"Handle error\")\\n', 'else:\\n', '        print(c)\\n', 'finally:\\n', '    print(\"finally will always run\")\\n', '    \\n', 'print(\"last\")']\n"
     ]
    }
   ],
   "source": [
    "with open('untitled0.py','r+') as fileObj:\n",
    "    fileObj.write(\"\\nI LOVE PROGRAMMING\\n\")\n",
    "    \n",
    "    fileObj.seek(0)\n",
    "    content = fileObj.readlines()\n",
    "    print(content)"
   ]
  },
  {
   "cell_type": "code",
   "execution_count": 19,
   "metadata": {},
   "outputs": [
    {
     "data": {
      "text/plain": [
       "<_io.TextIOWrapper name='untitled0.py' mode='w' encoding='cp1252'>"
      ]
     },
     "execution_count": 19,
     "metadata": {},
     "output_type": "execute_result"
    }
   ],
   "source": [
    "input_file = open('untitled0.py' , 'w')\n",
    "input_file"
   ]
  },
  {
   "cell_type": "code",
   "execution_count": 22,
   "metadata": {
    "scrolled": true
   },
   "outputs": [
    {
     "name": "stdout",
     "output_type": "stream",
     "text": [
      "# -*- coding: utf-8 -*-\n",
      "\"\"\"\n",
      "Created on Sun Jan  6 15:39:11 2019\n",
      "\n",
      "@author: aqadi\n",
      "\"\"\"\n",
      "\n",
      "class Student():\n",
      "    def _init_(self,name,age):\n",
      "        if  age > 80 or age < 16:\n",
      "            raise Exception(\"Age can not be greater than 80 and less than 16\")\n",
      "        self.name = name\n",
      "        self.age = age\n",
      "        \n",
      "print(\"before\")\n",
      "st = Student(\"Hello\",50)\n",
      "print(st.age)\n",
      "\n",
      "print(\"after\")\n"
     ]
    }
   ],
   "source": [
    "with open('untitled1.py') as f:\n",
    "    read_data = f.read()\n",
    "    print(read_data)"
   ]
  },
  {
   "cell_type": "code",
   "execution_count": 28,
   "metadata": {},
   "outputs": [
    {
     "data": {
      "text/plain": [
       "True"
      ]
     },
     "execution_count": 28,
     "metadata": {},
     "output_type": "execute_result"
    }
   ],
   "source": [
    "f.closed"
   ]
  },
  {
   "cell_type": "code",
   "execution_count": 30,
   "metadata": {},
   "outputs": [
    {
     "ename": "ValueError",
     "evalue": "I/O operation on closed file.",
     "output_type": "error",
     "traceback": [
      "\u001b[1;31m---------------------------------------------------------------------------\u001b[0m",
      "\u001b[1;31mValueError\u001b[0m                                Traceback (most recent call last)",
      "\u001b[1;32m<ipython-input-30-571e9fb02258>\u001b[0m in \u001b[0;36m<module>\u001b[1;34m\u001b[0m\n\u001b[1;32m----> 1\u001b[1;33m \u001b[0mf\u001b[0m\u001b[1;33m.\u001b[0m\u001b[0mread\u001b[0m\u001b[1;33m(\u001b[0m\u001b[1;33m)\u001b[0m\u001b[1;33m\u001b[0m\u001b[1;33m\u001b[0m\u001b[0m\n\u001b[0m",
      "\u001b[1;31mValueError\u001b[0m: I/O operation on closed file."
     ]
    }
   ],
   "source": [
    "f.read()"
   ]
  },
  {
   "cell_type": "code",
   "execution_count": 43,
   "metadata": {},
   "outputs": [
    {
     "name": "stdout",
     "output_type": "stream",
     "text": [
      "# -*- coding: utf-8 -*-\n",
      "\"\"\"\n",
      "Created on Sun Jan  6 15:39:11 2019\n",
      "\n",
      "@author: aqadi\n",
      "\"\"\"\n",
      "\n",
      "class Student():\n",
      "    def _init_(self,name,age):\n",
      "        if  age > 80 or age < 16:\n",
      "            raise Exception(\"Age can not be greater than 80 and less than 16\")\n",
      "        self.name = name\n",
      "        self.age = age\n",
      "        \n",
      "print(\"before\")\n",
      "st = Student(\"Hello\",50)\n",
      "print(st.age)\n",
      "\n",
      "print(\"after\")\n"
     ]
    }
   ],
   "source": [
    "with open('untitled1.py') as f:\n",
    "    read_data = f.read()\n",
    "    print(read_data)\n"
   ]
  },
  {
   "cell_type": "markdown",
   "metadata": {},
   "source": [
    ".readline() only read the single line"
   ]
  },
  {
   "cell_type": "code",
   "execution_count": 46,
   "metadata": {},
   "outputs": [
    {
     "name": "stdout",
     "output_type": "stream",
     "text": [
      "#\n",
      " \n",
      "-\n",
      "*\n",
      "-\n",
      " \n",
      "c\n",
      "o\n",
      "d\n",
      "i\n",
      "n\n",
      "g\n",
      ":\n",
      " \n",
      "u\n",
      "t\n",
      "f\n",
      "-\n",
      "8\n",
      " \n",
      "-\n",
      "*\n",
      "-\n",
      "\n",
      "\n",
      "\"\n",
      "\"\n",
      "\"\n",
      "\n",
      "\n",
      "C\n",
      "r\n",
      "e\n",
      "a\n",
      "t\n",
      "e\n",
      "d\n",
      " \n",
      "o\n",
      "n\n",
      " \n",
      "S\n",
      "u\n",
      "n\n",
      " \n",
      "J\n",
      "a\n",
      "n\n",
      " \n",
      " \n",
      "6\n",
      " \n",
      "1\n",
      "5\n",
      ":\n",
      "3\n",
      "9\n",
      ":\n",
      "1\n",
      "1\n",
      " \n",
      "2\n",
      "0\n",
      "1\n",
      "9\n",
      "\n",
      "\n",
      "\n",
      "\n",
      "@\n",
      "a\n",
      "u\n",
      "t\n",
      "h\n",
      "o\n",
      "r\n",
      ":\n",
      " \n",
      "a\n",
      "q\n",
      "a\n",
      "d\n",
      "i\n",
      "\n",
      "\n",
      "\"\n",
      "\"\n",
      "\"\n",
      "\n",
      "\n",
      "\n",
      "\n",
      "c\n",
      "l\n",
      "a\n",
      "s\n",
      "s\n",
      " \n",
      "S\n",
      "t\n",
      "u\n",
      "d\n",
      "e\n",
      "n\n",
      "t\n",
      "(\n",
      ")\n",
      ":\n",
      "\n",
      "\n",
      " \n",
      " \n",
      " \n",
      " \n",
      "d\n",
      "e\n",
      "f\n",
      " \n",
      "_\n",
      "i\n",
      "n\n",
      "i\n",
      "t\n",
      "_\n",
      "(\n",
      "s\n",
      "e\n",
      "l\n",
      "f\n",
      ",\n",
      "n\n",
      "a\n",
      "m\n",
      "e\n",
      ",\n",
      "a\n",
      "g\n",
      "e\n",
      ")\n",
      ":\n",
      "\n",
      "\n",
      " \n",
      " \n",
      " \n",
      " \n",
      " \n",
      " \n",
      " \n",
      " \n",
      "i\n",
      "f\n",
      " \n",
      " \n",
      "a\n",
      "g\n",
      "e\n",
      " \n",
      ">\n",
      " \n",
      "8\n",
      "0\n",
      " \n",
      "o\n",
      "r\n",
      " \n",
      "a\n",
      "g\n",
      "e\n",
      " \n",
      "<\n",
      " \n",
      "1\n",
      "6\n",
      ":\n",
      "\n",
      "\n",
      " \n",
      " \n",
      " \n",
      " \n",
      " \n",
      " \n",
      " \n",
      " \n",
      " \n",
      " \n",
      " \n",
      " \n",
      "r\n",
      "a\n",
      "i\n",
      "s\n",
      "e\n",
      " \n",
      "E\n",
      "x\n",
      "c\n",
      "e\n",
      "p\n",
      "t\n",
      "i\n",
      "o\n",
      "n\n",
      "(\n",
      "\"\n",
      "A\n",
      "g\n",
      "e\n",
      " \n",
      "c\n",
      "a\n",
      "n\n",
      " \n",
      "n\n",
      "o\n",
      "t\n",
      " \n",
      "b\n",
      "e\n",
      " \n",
      "g\n",
      "r\n",
      "e\n",
      "a\n",
      "t\n",
      "e\n",
      "r\n",
      " \n",
      "t\n",
      "h\n",
      "a\n",
      "n\n",
      " \n",
      "8\n",
      "0\n",
      " \n",
      "a\n",
      "n\n",
      "d\n",
      " \n",
      "l\n",
      "e\n",
      "s\n",
      "s\n",
      " \n",
      "t\n",
      "h\n",
      "a\n",
      "n\n",
      " \n",
      "1\n",
      "6\n",
      "\"\n",
      ")\n",
      "\n",
      "\n",
      " \n",
      " \n",
      " \n",
      " \n",
      " \n",
      " \n",
      " \n",
      " \n",
      "s\n",
      "e\n",
      "l\n",
      "f\n",
      ".\n",
      "n\n",
      "a\n",
      "m\n",
      "e\n",
      " \n",
      "=\n",
      " \n",
      "n\n",
      "a\n",
      "m\n",
      "e\n",
      "\n",
      "\n",
      " \n",
      " \n",
      " \n",
      " \n",
      " \n",
      " \n",
      " \n",
      " \n",
      "s\n",
      "e\n",
      "l\n",
      "f\n",
      ".\n",
      "a\n",
      "g\n",
      "e\n",
      " \n",
      "=\n",
      " \n",
      "a\n",
      "g\n",
      "e\n",
      "\n",
      "\n",
      " \n",
      " \n",
      " \n",
      " \n",
      " \n",
      " \n",
      " \n",
      " \n",
      "\n",
      "\n",
      "p\n",
      "r\n",
      "i\n",
      "n\n",
      "t\n",
      "(\n",
      "\"\n",
      "b\n",
      "e\n",
      "f\n",
      "o\n",
      "r\n",
      "e\n",
      "\"\n",
      ")\n",
      "\n",
      "\n",
      "s\n",
      "t\n",
      " \n",
      "=\n",
      " \n",
      "S\n",
      "t\n",
      "u\n",
      "d\n",
      "e\n",
      "n\n",
      "t\n",
      "(\n",
      "\"\n",
      "H\n",
      "e\n",
      "l\n",
      "l\n",
      "o\n",
      "\"\n",
      ",\n",
      "5\n",
      "0\n",
      ")\n",
      "\n",
      "\n",
      "p\n",
      "r\n",
      "i\n",
      "n\n",
      "t\n",
      "(\n",
      "s\n",
      "t\n",
      ".\n",
      "a\n",
      "g\n",
      "e\n",
      ")\n",
      "\n",
      "\n",
      "\n",
      "\n",
      "p\n",
      "r\n",
      "i\n",
      "n\n",
      "t\n",
      "(\n",
      "\"\n",
      "a\n",
      "f\n",
      "t\n",
      "e\n",
      "r\n",
      "\"\n",
      ")\n"
     ]
    }
   ],
   "source": [
    "for line in read_data:\n",
    "    print(line)"
   ]
  },
  {
   "cell_type": "code",
   "execution_count": 73,
   "metadata": {
    "scrolled": true
   },
   "outputs": [
    {
     "name": "stdout",
     "output_type": "stream",
     "text": [
      "The file exists\n"
     ]
    }
   ],
   "source": [
    "''' The os library supplied with Python contains a path library\n",
    "(libraries can contain libraries) that can help to \n",
    "prevent from overwritten in fle'''\n",
    "'''The isfile method accepts a file path as an argument \n",
    " and returns True if that file is found.'''\n",
    "\n",
    "import os.path \n",
    "if os.path.isfile('untitled1.py'):     \n",
    "    print('The file exists')\n"
   ]
  },
  {
   "cell_type": "code",
   "execution_count": 82,
   "metadata": {},
   "outputs": [
    {
     "name": "stdout",
     "output_type": "stream",
     "text": [
      "19\n"
     ]
    }
   ],
   "source": [
    "# .write(string) write in the file\n",
    "with open('untitled2.py','w') as g:\n",
    "     file = g.write('doing file handling')\n",
    "print(file)"
   ]
  },
  {
   "cell_type": "code",
   "execution_count": 83,
   "metadata": {},
   "outputs": [
    {
     "name": "stdout",
     "output_type": "stream",
     "text": [
      "22\n"
     ]
    }
   ],
   "source": [
    "with open('untitled2.py','w') as g:\n",
    "    s = (\"aqsa\" , 21 , \"nedian\")\n",
    "    a = str(s)\n",
    "    file = g.write(a)\n",
    "print(file)"
   ]
  },
  {
   "cell_type": "code",
   "execution_count": 84,
   "metadata": {},
   "outputs": [
    {
     "name": "stdout",
     "output_type": "stream",
     "text": [
      "('aqsa', 21, 'nedian')\n"
     ]
    }
   ],
   "source": [
    "with open('untitled2.py','r') as g:\n",
    "    read_data = g.read()\n",
    "    print(read_data)"
   ]
  },
  {
   "cell_type": "code",
   "execution_count": null,
   "metadata": {},
   "outputs": [],
   "source": []
  }
 ],
 "metadata": {
  "kernelspec": {
   "display_name": "Python 3",
   "language": "python",
   "name": "python3"
  },
  "language_info": {
   "codemirror_mode": {
    "name": "ipython",
    "version": 3
   },
   "file_extension": ".py",
   "mimetype": "text/x-python",
   "name": "python",
   "nbconvert_exporter": "python",
   "pygments_lexer": "ipython3",
   "version": "3.7.3"
  }
 },
 "nbformat": 4,
 "nbformat_minor": 2
}
